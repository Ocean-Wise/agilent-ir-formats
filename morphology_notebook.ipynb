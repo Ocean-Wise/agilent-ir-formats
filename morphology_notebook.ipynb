{
 "cells": [
  {
   "cell_type": "code",
   "execution_count": 18,
   "metadata": {},
   "outputs": [],
   "source": [
    "#from pprint import pprint   # only for this example\n",
    "import matplotlib.pyplot as plt\n",
    "from agilent_ir_file import AgilentIRFile\n",
    "import library_OS_fit as lib_OS\n",
    "import spec_process as spec_p\n",
    "import numpy as np\n",
    "import agilent_to_python as a2p\n",
    "from scipy import stats\n",
    "import pandas as pd\n",
    "from collections import Counter"
   ]
  },
  {
   "cell_type": "code",
   "execution_count": 19,
   "metadata": {},
   "outputs": [
    {
     "name": "stdout",
     "output_type": "stream",
     "text": [
      "[ 898.66574955  900.59421682  902.5226841  ... 3897.43236017 3899.36082745\n",
      " 3901.28929472]\n",
      "(1152, 1152, 1558)\n"
     ]
    }
   ],
   "source": [
    "filename = r'C:\\Users\\Shreyas.Patankar\\Ocean Wise Conservation Association\\Plastics Lab Team - General\\00_FTIR_Data\\mosaic_test_and_results\\test20230424b\\test20230424b.dmt'\n",
    "reader = AgilentIRFile()\n",
    "reader.read(filename)\n",
    "\n",
    "xvalues = reader.wavenumbers\n",
    "intensities = reader.intensities\n",
    "metadata = reader.metadata\n",
    "\n",
    "print(xvalues)\n",
    "print(intensities.shape)\n",
    "#pprint(metadata)\n",
    "intensities = a2p.hsi_df(reader)\n",
    "wavenumbers = a2p.data_wns(reader)"
   ]
  },
  {
   "cell_type": "code",
   "execution_count": 29,
   "metadata": {},
   "outputs": [
    {
     "data": {
      "text/plain": [
       "<matplotlib.image.AxesImage at 0x1f98d422920>"
      ]
     },
     "execution_count": 29,
     "metadata": {},
     "output_type": "execute_result"
    },
    {
     "data": {
      "image/png": "[encoded data removed]",
      "text/plain": [
       "<Figure size 640x480 with 1 Axes>"
      ]
     },
     "metadata": {},
     "output_type": "display_data"
    }
   ],
   "source": [
    "#from skimage import morphology, measure\n",
    "\n",
    "from skimage.morphology import disk, closing, medial_axis, skeletonize\n",
    "from skimage.measure import label, regionprops, regionprops_table\n",
    "\n",
    "im = reader.total_image\n",
    "mask = im > 5*im.mean()\n",
    "#clsd = closing(mask,disk(20))\n",
    "#fig, axs = plt.subplots(1,4,figsize=(20,15))\n",
    "#axs[0].imshow(im)\n",
    "#axs[1].imshow(mask)\n",
    "#axs[2].imshow(clsd)\n",
    "plt.imshow(mask)\n"
   ]
  },
  {
   "cell_type": "code",
   "execution_count": 30,
   "metadata": {},
   "outputs": [],
   "source": [
    "\n",
    "lbls, ns = label(mask, return_num = True)\n",
    "props = regionprops(lbls)\n"
   ]
  },
  {
   "cell_type": "code",
   "execution_count": 138,
   "metadata": {},
   "outputs": [],
   "source": [
    "library_wavenos = lib_OS.get_lib_wns()\n",
    "\n",
    "smoothing_order = 2\n",
    "smoothing_window = 5\n",
    "\n",
    "clust_der_values = pd.read_csv('OS_clusters_DERINT.csv')\n",
    "\n",
    "def norm_pearson(p,q):\n",
    "    modp = p/(np.max(p) - np.min(p))\n",
    "    modq = q/(np.max(q) - np.min(q))\n",
    "    return stats.pearsonr(modp,modq)[0]\n",
    "\n",
    "\n",
    "def pearson_rs(p):\n",
    "    def normp_pearson(q):\n",
    "        return norm_pearson(p,q)\n",
    "    return np.apply_along_axis(normp_pearson,axis=0,arr=clust_der_values)\n",
    "\n",
    "def bPR(p):\n",
    "    proc = spec_p.proc(p,smoothing_window, smoothing_order,wavenumbers,library_wavenos)\n",
    "    prsc = pearson_rs(proc)\n",
    "    ix = np.argmax(prsc)\n",
    "    if prsc[ix] > 0.3:\n",
    "        return (ix , prsc[ix])\n",
    "    else: return (ix, prsc[ix])\n",
    "\n"
   ]
  },
  {
   "cell_type": "code",
   "execution_count": 61,
   "metadata": {},
   "outputs": [
    {
     "data": {
      "text/plain": [
       "841"
      ]
     },
     "execution_count": 61,
     "metadata": {},
     "output_type": "execute_result"
    }
   ],
   "source": [
    "lst = props[23].coords\n",
    "#plt.plot([len(prop.coords) for prop in props],'o')\n",
    "#plt.ylim([-10,1000])\n",
    "len(lst)"
   ]
  },
  {
   "cell_type": "code",
   "execution_count": 95,
   "metadata": {},
   "outputs": [],
   "source": [
    "elements = []\n",
    "\n",
    "for coords in lst:\n",
    "    row_index, column_index = coords\n",
    "    spectrum = intensities[row_index, column_index]\n",
    "    elements.append(bPR(spectrum))\n"
   ]
  },
  {
   "cell_type": "code",
   "execution_count": 96,
   "metadata": {},
   "outputs": [
    {
     "name": "stdout",
     "output_type": "stream",
     "text": [
      "Selected majority elements: ['unresolved polyethylene', 'PTFE']\n"
     ]
    }
   ],
   "source": [
    "from collections import Counter\n",
    "\n",
    "def most_elements(input_list, majority_threshold=0.80):\n",
    "    element_counts = Counter(input_list)  # Count occurrences of each element\n",
    "    sorted_elements = sorted(element_counts.items(), key=lambda x: x[1], reverse=True)  # Sort by abundance\n",
    "\n",
    "    total_elements = len(input_list)\n",
    "    majority_count = total_elements * majority_threshold\n",
    "\n",
    "    selected_elements = []\n",
    "    accumulated_count = 0\n",
    "\n",
    "    for element, count in sorted_elements:\n",
    "        accumulated_count += count\n",
    "        selected_elements.append(element)\n",
    "\n",
    "        if accumulated_count >= majority_count:\n",
    "            break\n",
    "\n",
    "    return selected_elements\n",
    "\n",
    "# Example input list\n",
    "data = [x[0] for x in elements]\n",
    "\n",
    "# Select elements that account for the majority (at least 50% by abundance)\n",
    "majority_elements = most_elements(data)\n",
    "\n",
    "print(\"Selected majority elements:\", [lib_OS.catID(k) for k in majority_elements])\n"
   ]
  },
  {
   "cell_type": "code",
   "execution_count": 97,
   "metadata": {},
   "outputs": [
    {
     "data": {
      "text/plain": [
       "[(14, 582), (6, 182), (2, 40), (1, 24), (17, 12), (12, 1)]"
      ]
     },
     "execution_count": 97,
     "metadata": {},
     "output_type": "execute_result"
    },
    {
     "data": {
      "image/png": "[encoded data removed]",
      "text/plain": [
       "<Figure size 640x480 with 1 Axes>"
      ]
     },
     "metadata": {},
     "output_type": "display_data"
    }
   ],
   "source": [
    "el_co = Counter([x[0] for x in elements if x[1] > 0.003])\n",
    "plt.imshow(props[23].image)\n",
    "sorted(el_co.items(), key=lambda x: x[1], reverse=True)\n",
    "#lib_OS.catID(6)"
   ]
  },
  {
   "cell_type": "code",
   "execution_count": 98,
   "metadata": {},
   "outputs": [
    {
     "data": {
      "text/plain": [
       "[<matplotlib.lines.Line2D at 0x1f98f0861a0>]"
      ]
     },
     "execution_count": 98,
     "metadata": {},
     "output_type": "execute_result"
    },
    {
     "data": {
      "image/png": "[encoded data removed]",
      "text/plain": [
       "<Figure size 640x480 with 1 Axes>"
      ]
     },
     "metadata": {},
     "output_type": "display_data"
    }
   ],
   "source": [
    "plt.plot(props[23].coords[:,1],props[23].coords[:,0],'o')\n"
   ]
  },
  {
   "cell_type": "code",
   "execution_count": 152,
   "metadata": {},
   "outputs": [
    {
     "name": "stdout",
     "output_type": "stream",
     "text": [
      "True\n",
      "PTFE\n",
      "(6, 0.20823356901931547)\n"
     ]
    },
    {
     "data": {
      "text/html": [
       "<div>\n",
       "<style scoped>\n",
       "    .dataframe tbody tr th:only-of-type {\n",
       "        vertical-align: middle;\n",
       "    }\n",
       "\n",
       "    .dataframe tbody tr th {\n",
       "        vertical-align: top;\n",
       "    }\n",
       "\n",
       "    .dataframe thead th {\n",
       "        text-align: right;\n",
       "    }\n",
       "</style>\n",
       "<table border=\"1\" class=\"dataframe\">\n",
       "  <thead>\n",
       "    <tr style=\"text-align: right;\">\n",
       "      <th></th>\n",
       "      <th>spectrum_identity</th>\n",
       "      <th>particle_ID</th>\n",
       "      <th>clust_ix</th>\n",
       "      <th>Pearson_Rs</th>\n",
       "    </tr>\n",
       "  </thead>\n",
       "  <tbody>\n",
       "    <tr>\n",
       "      <th>223</th>\n",
       "      <td>PET</td>\n",
       "      <td>224</td>\n",
       "      <td>6</td>\n",
       "      <td>0.253827</td>\n",
       "    </tr>\n",
       "    <tr>\n",
       "      <th>225</th>\n",
       "      <td>PET</td>\n",
       "      <td>226</td>\n",
       "      <td>6</td>\n",
       "      <td>0.247176</td>\n",
       "    </tr>\n",
       "    <tr>\n",
       "      <th>222</th>\n",
       "      <td>PET</td>\n",
       "      <td>223</td>\n",
       "      <td>6</td>\n",
       "      <td>0.245406</td>\n",
       "    </tr>\n",
       "    <tr>\n",
       "      <th>224</th>\n",
       "      <td>PET</td>\n",
       "      <td>225</td>\n",
       "      <td>14</td>\n",
       "      <td>0.243543</td>\n",
       "    </tr>\n",
       "    <tr>\n",
       "      <th>70</th>\n",
       "      <td>HDPE</td>\n",
       "      <td>71</td>\n",
       "      <td>1</td>\n",
       "      <td>0.242662</td>\n",
       "    </tr>\n",
       "  </tbody>\n",
       "</table>\n",
       "</div>"
      ],
      "text/plain": [
       "    spectrum_identity  particle_ID  clust_ix  Pearson_Rs\n",
       "223               PET          224         6    0.253827\n",
       "225               PET          226         6    0.247176\n",
       "222               PET          223         6    0.245406\n",
       "224               PET          225        14    0.243543\n",
       "70               HDPE           71         1    0.242662"
      ]
     },
     "execution_count": 152,
     "metadata": {},
     "output_type": "execute_result"
    },
    {
     "data": {
      "image/png": "[encoded data removed]",
      "text/plain": [
       "<Figure size 640x480 with 1 Axes>"
      ]
     },
     "metadata": {},
     "output_type": "display_data"
    }
   ],
   "source": [
    "#plt.plot(spec_p.proc(intensities[1110,1030],smoothing_window, smoothing_order,wavenumbers,library_wavenos))\n",
    "plt.plot(wavenumbers,intensities[1110,1030])\n",
    "#plt.plot(spectrum)\n",
    "#smoothing_window = 5\n",
    "print([1110,1030] in lst)\n",
    "print(lib_OS.catID(bPR(intensities[1110,1030])[0]))\n",
    "print(bPR(intensities[1110,1030]))\n",
    "\n",
    "#pearson_rs(spec_p.proc(intensities[1110,1030],smoothing_window, smoothing_order,wavenumbers,library_wavenos))\n",
    "lib_OS.libOS_fit_1(spec_p.proc(intensities[1110,1030],smoothing_window, smoothing_order,wavenumbers,library_wavenos))"
   ]
  },
  {
   "cell_type": "code",
   "execution_count": 100,
   "metadata": {},
   "outputs": [
    {
     "data": {
      "text/html": [
       "<div>\n",
       "<style scoped>\n",
       "    .dataframe tbody tr th:only-of-type {\n",
       "        vertical-align: middle;\n",
       "    }\n",
       "\n",
       "    .dataframe tbody tr th {\n",
       "        vertical-align: top;\n",
       "    }\n",
       "\n",
       "    .dataframe thead th {\n",
       "        text-align: right;\n",
       "    }\n",
       "</style>\n",
       "<table border=\"1\" class=\"dataframe\">\n",
       "  <thead>\n",
       "    <tr style=\"text-align: right;\">\n",
       "      <th></th>\n",
       "      <th>label</th>\n",
       "      <th>area</th>\n",
       "      <th>solidity</th>\n",
       "      <th>appr_len</th>\n",
       "      <th>appr_wid</th>\n",
       "    </tr>\n",
       "  </thead>\n",
       "  <tbody>\n",
       "    <tr>\n",
       "      <th>0</th>\n",
       "      <td>1</td>\n",
       "      <td>14249.0</td>\n",
       "      <td>0.598044</td>\n",
       "      <td>769.745300</td>\n",
       "      <td>36.694249</td>\n",
       "    </tr>\n",
       "    <tr>\n",
       "      <th>1</th>\n",
       "      <td>2</td>\n",
       "      <td>15073.0</td>\n",
       "      <td>0.945134</td>\n",
       "      <td>147.610309</td>\n",
       "      <td>132.772821</td>\n",
       "    </tr>\n",
       "    <tr>\n",
       "      <th>2</th>\n",
       "      <td>3</td>\n",
       "      <td>7.0</td>\n",
       "      <td>1.000000</td>\n",
       "      <td>4.000000</td>\n",
       "      <td>2.213133</td>\n",
       "    </tr>\n",
       "    <tr>\n",
       "      <th>3</th>\n",
       "      <td>4</td>\n",
       "      <td>19.0</td>\n",
       "      <td>0.791667</td>\n",
       "      <td>10.394164</td>\n",
       "      <td>2.309829</td>\n",
       "    </tr>\n",
       "    <tr>\n",
       "      <th>4</th>\n",
       "      <td>5</td>\n",
       "      <td>29.0</td>\n",
       "      <td>0.828571</td>\n",
       "      <td>8.580441</td>\n",
       "      <td>4.628691</td>\n",
       "    </tr>\n",
       "    <tr>\n",
       "      <th>5</th>\n",
       "      <td>6</td>\n",
       "      <td>1.0</td>\n",
       "      <td>1.000000</td>\n",
       "      <td>0.000000</td>\n",
       "      <td>0.000000</td>\n",
       "    </tr>\n",
       "    <tr>\n",
       "      <th>6</th>\n",
       "      <td>7</td>\n",
       "      <td>4.0</td>\n",
       "      <td>1.000000</td>\n",
       "      <td>2.000000</td>\n",
       "      <td>2.000000</td>\n",
       "    </tr>\n",
       "    <tr>\n",
       "      <th>7</th>\n",
       "      <td>8</td>\n",
       "      <td>19.0</td>\n",
       "      <td>0.950000</td>\n",
       "      <td>5.706236</td>\n",
       "      <td>4.175324</td>\n",
       "    </tr>\n",
       "    <tr>\n",
       "      <th>8</th>\n",
       "      <td>9</td>\n",
       "      <td>3.0</td>\n",
       "      <td>1.000000</td>\n",
       "      <td>2.309401</td>\n",
       "      <td>1.333333</td>\n",
       "    </tr>\n",
       "    <tr>\n",
       "      <th>9</th>\n",
       "      <td>10</td>\n",
       "      <td>11.0</td>\n",
       "      <td>0.846154</td>\n",
       "      <td>4.070110</td>\n",
       "      <td>3.501521</td>\n",
       "    </tr>\n",
       "    <tr>\n",
       "      <th>10</th>\n",
       "      <td>11</td>\n",
       "      <td>12.0</td>\n",
       "      <td>0.923077</td>\n",
       "      <td>4.418072</td>\n",
       "      <td>3.371873</td>\n",
       "    </tr>\n",
       "    <tr>\n",
       "      <th>11</th>\n",
       "      <td>12</td>\n",
       "      <td>10528.0</td>\n",
       "      <td>0.890844</td>\n",
       "      <td>162.148806</td>\n",
       "      <td>90.331781</td>\n",
       "    </tr>\n",
       "    <tr>\n",
       "      <th>12</th>\n",
       "      <td>13</td>\n",
       "      <td>3.0</td>\n",
       "      <td>1.000000</td>\n",
       "      <td>2.309401</td>\n",
       "      <td>1.333333</td>\n",
       "    </tr>\n",
       "    <tr>\n",
       "      <th>13</th>\n",
       "      <td>14</td>\n",
       "      <td>175.0</td>\n",
       "      <td>0.629496</td>\n",
       "      <td>45.287689</td>\n",
       "      <td>4.426139</td>\n",
       "    </tr>\n",
       "    <tr>\n",
       "      <th>14</th>\n",
       "      <td>15</td>\n",
       "      <td>1.0</td>\n",
       "      <td>1.000000</td>\n",
       "      <td>0.000000</td>\n",
       "      <td>0.000000</td>\n",
       "    </tr>\n",
       "    <tr>\n",
       "      <th>15</th>\n",
       "      <td>16</td>\n",
       "      <td>10.0</td>\n",
       "      <td>1.000000</td>\n",
       "      <td>3.919184</td>\n",
       "      <td>3.098387</td>\n",
       "    </tr>\n",
       "    <tr>\n",
       "      <th>16</th>\n",
       "      <td>17</td>\n",
       "      <td>48.0</td>\n",
       "      <td>0.872727</td>\n",
       "      <td>10.111555</td>\n",
       "      <td>6.342060</td>\n",
       "    </tr>\n",
       "    <tr>\n",
       "      <th>17</th>\n",
       "      <td>18</td>\n",
       "      <td>2.0</td>\n",
       "      <td>1.000000</td>\n",
       "      <td>2.000000</td>\n",
       "      <td>0.000000</td>\n",
       "    </tr>\n",
       "    <tr>\n",
       "      <th>18</th>\n",
       "      <td>19</td>\n",
       "      <td>44.0</td>\n",
       "      <td>0.745763</td>\n",
       "      <td>13.366588</td>\n",
       "      <td>4.982160</td>\n",
       "    </tr>\n",
       "    <tr>\n",
       "      <th>19</th>\n",
       "      <td>20</td>\n",
       "      <td>112.0</td>\n",
       "      <td>0.746667</td>\n",
       "      <td>18.377722</td>\n",
       "      <td>9.160231</td>\n",
       "    </tr>\n",
       "    <tr>\n",
       "      <th>20</th>\n",
       "      <td>21</td>\n",
       "      <td>16.0</td>\n",
       "      <td>0.941176</td>\n",
       "      <td>5.149449</td>\n",
       "      <td>3.918950</td>\n",
       "    </tr>\n",
       "    <tr>\n",
       "      <th>21</th>\n",
       "      <td>22</td>\n",
       "      <td>1.0</td>\n",
       "      <td>1.000000</td>\n",
       "      <td>0.000000</td>\n",
       "      <td>0.000000</td>\n",
       "    </tr>\n",
       "    <tr>\n",
       "      <th>22</th>\n",
       "      <td>23</td>\n",
       "      <td>8.0</td>\n",
       "      <td>0.888889</td>\n",
       "      <td>3.752200</td>\n",
       "      <td>2.769657</td>\n",
       "    </tr>\n",
       "    <tr>\n",
       "      <th>23</th>\n",
       "      <td>24</td>\n",
       "      <td>841.0</td>\n",
       "      <td>0.274567</td>\n",
       "      <td>182.984306</td>\n",
       "      <td>7.065647</td>\n",
       "    </tr>\n",
       "    <tr>\n",
       "      <th>24</th>\n",
       "      <td>25</td>\n",
       "      <td>20.0</td>\n",
       "      <td>0.869565</td>\n",
       "      <td>5.714154</td>\n",
       "      <td>4.761139</td>\n",
       "    </tr>\n",
       "  </tbody>\n",
       "</table>\n",
       "</div>"
      ],
      "text/plain": [
       "    label     area  solidity    appr_len    appr_wid\n",
       "0       1  14249.0  0.598044  769.745300   36.694249\n",
       "1       2  15073.0  0.945134  147.610309  132.772821\n",
       "2       3      7.0  1.000000    4.000000    2.213133\n",
       "3       4     19.0  0.791667   10.394164    2.309829\n",
       "4       5     29.0  0.828571    8.580441    4.628691\n",
       "5       6      1.0  1.000000    0.000000    0.000000\n",
       "6       7      4.0  1.000000    2.000000    2.000000\n",
       "7       8     19.0  0.950000    5.706236    4.175324\n",
       "8       9      3.0  1.000000    2.309401    1.333333\n",
       "9      10     11.0  0.846154    4.070110    3.501521\n",
       "10     11     12.0  0.923077    4.418072    3.371873\n",
       "11     12  10528.0  0.890844  162.148806   90.331781\n",
       "12     13      3.0  1.000000    2.309401    1.333333\n",
       "13     14    175.0  0.629496   45.287689    4.426139\n",
       "14     15      1.0  1.000000    0.000000    0.000000\n",
       "15     16     10.0  1.000000    3.919184    3.098387\n",
       "16     17     48.0  0.872727   10.111555    6.342060\n",
       "17     18      2.0  1.000000    2.000000    0.000000\n",
       "18     19     44.0  0.745763   13.366588    4.982160\n",
       "19     20    112.0  0.746667   18.377722    9.160231\n",
       "20     21     16.0  0.941176    5.149449    3.918950\n",
       "21     22      1.0  1.000000    0.000000    0.000000\n",
       "22     23      8.0  0.888889    3.752200    2.769657\n",
       "23     24    841.0  0.274567  182.984306    7.065647\n",
       "24     25     20.0  0.869565    5.714154    4.761139"
      ]
     },
     "execution_count": 100,
     "metadata": {},
     "output_type": "execute_result"
    }
   ],
   "source": [
    "\n",
    "#len(props)\n",
    "#axs[3].imshow(skeletonize(props[2].image))\n",
    "#props[3].orientation\n",
    "\n",
    "def appr_len(region):\n",
    "    q = np.arctan(np.shape(region)[0]/np.shape(region)[1])\n",
    "    return (np.sum(skeletonize(region)))*((np.sqrt(2)-1)*(np.sin(2*q)**2)+1)\n",
    "\n",
    "def appr_wid(region):\n",
    "    skel, distance = medial_axis(region, return_distance=True)\n",
    "    return np.mean([2*k for k in distance.flatten() if k >= np.percentile(distance.flatten(),95)])\n",
    "\n",
    "morph_table = pd.DataFrame(regionprops_table(lbls, properties = ['label','area','axis_major_length', 'axis_minor_length', 'solidity'], extra_properties = (appr_len,appr_wid,)))\n",
    "\n",
    "appr_len = []\n",
    "appr_wid = []\n",
    "\n",
    "for ix in morph_table.index:\n",
    "    if  morph_table.loc[ix,'solidity'] > 0.7:\n",
    "        appr_len.append(morph_table.loc[ix,'axis_major_length'])\n",
    "        appr_wid.append(morph_table.loc[ix,'axis_minor_length'])\n",
    "    else:\n",
    "        appr_len.append(morph_table.loc[ix,'appr_len'])\n",
    "        appr_wid.append(morph_table.loc[ix,'appr_wid'])\n",
    "    \n",
    "\n",
    "morph_table['appr_len'] = appr_len\n",
    "morph_table['appr_wid'] = appr_wid\n",
    "morph_table = morph_table[['label','area','solidity','appr_len','appr_wid']]\n",
    "morph_table"
   ]
  }
 ],
 "metadata": {
  "kernelspec": {
   "display_name": "Python 3",
   "language": "python",
   "name": "python3"
  },
  "language_info": {
   "codemirror_mode": {
    "name": "ipython",
    "version": 3
   },
   "file_extension": ".py",
   "mimetype": "text/x-python",
   "name": "python",
   "nbconvert_exporter": "python",
   "pygments_lexer": "ipython3",
   "version": "3.10.12"
  },
  "orig_nbformat": 4
 },
 "nbformat": 4,
 "nbformat_minor": 2
}
